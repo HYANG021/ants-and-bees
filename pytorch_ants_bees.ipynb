{
 "cells": [
  {
   "cell_type": "code",
   "execution_count": null,
   "id": "f12490c6",
   "metadata": {},
   "outputs": [],
   "source": [
    "import numpy as np\n",
    "import torchvision\n",
    "from torchvision import datasets, transforms, models\n",
    "\n",
    "import matplotlib.pyplot as plt\n",
    "import time\n",
    "import os\n",
    "import copy\n",
    "print(\"Torchvision Version: \",torchvision.__version__)\n",
    "\n",
    "data_dir = './hymenoptera_data'\n",
    "#模型可以选择[resnet, alexnet, vgg, squeezenet, densenet, inception]\n",
    "model_name = 'resnet'\n",
    "#数据的label分类个数\n",
    "num_classes = 2\n",
    "#训练的batch_size\n",
    "batch_size=32\n",
    "#训练的轮数\n",
    "num_epochs = 15\n",
    "#整个模型参数都参数训练，进行更新\n",
    "feature_extract = True\n",
    "————————————————\n",
    "版权声明：本文为CSDN博主「马苏比拉米G」的原创文章，遵循CC 4.0 BY-SA版权协议，转载请附上原文出处链接及本声明。\n",
    "原文链接：https://blog.csdn.net/weixin_44388679/article/details/103096115"
   ]
  }
 ],
 "metadata": {
  "kernelspec": {
   "display_name": "Python 3",
   "language": "python",
   "name": "python3"
  },
  "language_info": {
   "codemirror_mode": {
    "name": "ipython",
    "version": 3
   },
   "file_extension": ".py",
   "mimetype": "text/x-python",
   "name": "python",
   "nbconvert_exporter": "python",
   "pygments_lexer": "ipython3",
   "version": "3.8.8"
  }
 },
 "nbformat": 4,
 "nbformat_minor": 5
}
